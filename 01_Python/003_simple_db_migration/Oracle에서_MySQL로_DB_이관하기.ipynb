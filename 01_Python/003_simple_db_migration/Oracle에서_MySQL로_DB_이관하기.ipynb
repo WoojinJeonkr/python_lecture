{
 "cells": [
  {
   "cell_type": "code",
   "execution_count": null,
   "metadata": {
    "colab": {
     "base_uri": "https://localhost:8080/"
    },
    "executionInfo": {
     "elapsed": 25678,
     "status": "ok",
     "timestamp": 1742796905734,
     "user": {
      "displayName": "전우진",
      "userId": "05353139990796761935"
     },
     "user_tz": -540
    },
    "id": "tl2_lX94r5Lt",
    "outputId": "b6aba6e4-e2f3-4a1c-da8e-b2b66ef41ed6"
   },
   "outputs": [
    {
     "name": "stdout",
     "output_type": "stream",
     "text": [
      "Requirement already satisfied: oracledb in /usr/local/lib/python3.11/dist-packages (3.0.0)\n",
      "Requirement already satisfied: cryptography>=3.2.1 in /usr/local/lib/python3.11/dist-packages (from oracledb) (43.0.3)\n",
      "Requirement already satisfied: cffi>=1.12 in /usr/local/lib/python3.11/dist-packages (from cryptography>=3.2.1->oracledb) (1.17.1)\n",
      "Requirement already satisfied: pycparser in /usr/local/lib/python3.11/dist-packages (from cffi>=1.12->cryptography>=3.2.1->oracledb) (2.22)\n",
      "Requirement already satisfied: mysql-connector-python==9.0.0 in /usr/local/lib/python3.11/dist-packages (9.0.0)\n",
      "Requirement already satisfied: sqlalchemy==2.0.31 in /usr/local/lib/python3.11/dist-packages (2.0.31)\n",
      "Requirement already satisfied: typing-extensions>=4.6.0 in /usr/local/lib/python3.11/dist-packages (from sqlalchemy==2.0.31) (4.12.2)\n",
      "Requirement already satisfied: greenlet!=0.4.17 in /usr/local/lib/python3.11/dist-packages (from sqlalchemy==2.0.31) (3.1.1)\n",
      "Requirement already satisfied: pandas==2.2.2 in /usr/local/lib/python3.11/dist-packages (2.2.2)\n",
      "Requirement already satisfied: numpy>=1.23.2 in /usr/local/lib/python3.11/dist-packages (from pandas==2.2.2) (2.0.2)\n",
      "Requirement already satisfied: python-dateutil>=2.8.2 in /usr/local/lib/python3.11/dist-packages (from pandas==2.2.2) (2.8.2)\n",
      "Requirement already satisfied: pytz>=2020.1 in /usr/local/lib/python3.11/dist-packages (from pandas==2.2.2) (2025.1)\n",
      "Requirement already satisfied: tzdata>=2022.7 in /usr/local/lib/python3.11/dist-packages (from pandas==2.2.2) (2025.1)\n",
      "Requirement already satisfied: six>=1.5 in /usr/local/lib/python3.11/dist-packages (from python-dateutil>=2.8.2->pandas==2.2.2) (1.17.0)\n"
     ]
    },
    {
     "name": "stderr",
     "output_type": "stream",
     "text": [
      "<ipython-input-11-28a08dd8a71f>:25: UserWarning: pandas only supports SQLAlchemy connectable (engine/connection) or database string URI or sqlite3 DBAPI2 connection. Other DBAPI2 objects are not tested. Please consider using SQLAlchemy.\n",
      "  sswData = pd.read_sql_query(sqlSelect, con_oracle)\n"
     ]
    },
    {
     "data": {
      "text/plain": [
       "4"
      ]
     },
     "execution_count": 11,
     "metadata": {},
     "output_type": "execute_result"
    }
   ],
   "source": [
    "# 사용 라이브러리 설치\n",
    "!pip install oracledb\n",
    "!pip install mysql-connector-python==9.0.0\n",
    "!pip install sqlalchemy==2.0.31\n",
    "!pip install pandas==2.2.2\n",
    "\n",
    "from sqlalchemy import create_engine, inspect\n",
    "import pandas as pd\n",
    "import oracledb\n",
    "\n",
    "# Oracle db 연결 정보\n",
    "user = 'kopo'\n",
    "password = 'kopo2025'\n",
    "dsn = '0.tcp.jp.ngrok.io:14190/orcl'\n",
    "\n",
    "# Oracle db 연결\n",
    "con_oracle = oracledb.connect(user=user, password=password, dsn=dsn)\n",
    "\n",
    "# KOPO_PARAMETER_SSW의 전체 데이터 조회 SQL문 작성\n",
    "sqlSelect = \"\"\"\n",
    "SELECT * FROM KOPO_PARAMETER_SSW\n",
    "\"\"\"\n",
    "\n",
    "# 위에 작성한 SQL문을 통해 데이터를 가져와서 sswData 변수에 넣음\n",
    "sswData = pd.read_sql_query(sqlSelect, con_oracle)\n",
    "# sswData.head(2)\n",
    "\n",
    "# 연결 종료\n",
    "con_oracle.close()\n",
    "\n",
    "# mysql 연결 정보 작성\n",
    "user = 'hkcode'\n",
    "password = '비밀번호'\n",
    "host = 'my8003.gabiadb.com'\n",
    "port = '3306'\n",
    "database = 'hkcodedb'\n",
    "\n",
    "# mysql 엔진 생성\n",
    "engine = create_engine(f'mysql+mysqlconnector://{user}:{password}@{host}:{port}/{database}')\n",
    "# engine\n",
    "\n",
    "# 불러온 데이터 저장할 mysql 테이블 이름 작성\n",
    "tableName = \"KOPO_PARAMETER_전우진\"\n",
    "\n",
    "# 가져온 데이터를 mysql db에 저장\n",
    "sswData.to_sql(name=tableName, con=engine, if_exists='replace', index=False)"
   ]
  }
 ],
 "metadata": {
  "colab": {
   "authorship_tag": "ABX9TyNvPa405j+F38fFLhIGTZyX",
   "provenance": []
  },
  "kernelspec": {
   "display_name": "Python 3",
   "name": "python3"
  },
  "language_info": {
   "name": "python"
  }
 },
 "nbformat": 4,
 "nbformat_minor": 0
}
