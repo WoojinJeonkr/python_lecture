{
  "cells": [
    {
      "cell_type": "code",
      "source": [
        "a=\"3\"\n",
        "b=\"5\"\n",
        "a+b"
      ],
      "metadata": {
        "colab": {
          "base_uri": "https://localhost:8080/",
          "height": 35
        },
        "id": "6l-VoEpCE_6n",
        "outputId": "1c3a01c6-9e19-4ff3-fa10-f574b3797699"
      },
      "execution_count": 1,
      "outputs": [
        {
          "output_type": "execute_result",
          "data": {
            "text/plain": [
              "'35'"
            ],
            "application/vnd.google.colaboratory.intrinsic+json": {
              "type": "string"
            }
          },
          "metadata": {},
          "execution_count": 1
        }
      ]
    },
    {
      "cell_type": "code",
      "source": [
        "a=3\n",
        "b=5\n",
        "a+b"
      ],
      "metadata": {
        "colab": {
          "base_uri": "https://localhost:8080/"
        },
        "id": "rz6ijYly1Tpp",
        "outputId": "02b3c59a-bea4-475d-b22e-b90ef3cced2c"
      },
      "execution_count": 2,
      "outputs": [
        {
          "output_type": "execute_result",
          "data": {
            "text/plain": [
              "8"
            ]
          },
          "metadata": {},
          "execution_count": 2
        }
      ]
    },
    {
      "cell_type": "code",
      "source": [
        "secPrice = \"SEC_2000\""
      ],
      "metadata": {
        "id": "GC3ns1C_1TnE"
      },
      "execution_count": 3,
      "outputs": []
    },
    {
      "cell_type": "code",
      "source": [
        "secPrice.split(\"_\")"
      ],
      "metadata": {
        "colab": {
          "base_uri": "https://localhost:8080/"
        },
        "id": "ZyTXtOzT1Tkx",
        "outputId": "57d55dc6-9809-4341-ad13-66b76a455a03"
      },
      "execution_count": 4,
      "outputs": [
        {
          "output_type": "execute_result",
          "data": {
            "text/plain": [
              "['SEC', '2000']"
            ]
          },
          "metadata": {},
          "execution_count": 4
        }
      ]
    },
    {
      "cell_type": "markdown",
      "metadata": {
        "id": "BZWk9Sw0OOE9"
      },
      "source": [
        "### 자료형이란?"
      ]
    },
    {
      "cell_type": "code",
      "execution_count": 5,
      "metadata": {
        "collapsed": true,
        "jupyter": {
          "outputs_hidden": true
        },
        "colab": {
          "base_uri": "https://localhost:8080/"
        },
        "id": "fVCJYv72OOFE",
        "outputId": "0f83d89b-0089-4c40-96c0-86b44955a2d1"
      },
      "outputs": [
        {
          "output_type": "stream",
          "name": "stdout",
          "text": [
            "6\n"
          ]
        }
      ],
      "source": [
        "##### 변할 수 있는 값을 담는 공간\n",
        "a=3\n",
        "b=2\n",
        "a=a*b\n",
        "print(a)"
      ]
    },
    {
      "cell_type": "code",
      "execution_count": 6,
      "metadata": {
        "colab": {
          "base_uri": "https://localhost:8080/"
        },
        "id": "ycOwAhPFOOFK",
        "outputId": "d20cdbe3-de1e-44e8-c618-c720977ef934"
      },
      "outputs": [
        {
          "output_type": "stream",
          "name": "stdout",
          "text": [
            "<class 'int'>\n",
            "<class 'str'>\n"
          ]
        }
      ],
      "source": [
        "A=\"3\"\n",
        "print(type(a))\n",
        "print(type(A))"
      ]
    },
    {
      "cell_type": "code",
      "execution_count": 7,
      "metadata": {
        "id": "DkJ5QB-1OOFL"
      },
      "outputs": [],
      "source": [
        "# 3A = 2"
      ]
    },
    {
      "cell_type": "code",
      "execution_count": 8,
      "metadata": {
        "id": "8YxjaoK6OOFN"
      },
      "outputs": [],
      "source": [
        "### 변수명 예약어 사용불가\n",
        "# if = 3"
      ]
    },
    {
      "cell_type": "markdown",
      "metadata": {
        "id": "ZAI0mPg5OOFO"
      },
      "source": [
        "# 1. 수(Number)"
      ]
    },
    {
      "cell_type": "code",
      "execution_count": 9,
      "metadata": {
        "colab": {
          "base_uri": "https://localhost:8080/"
        },
        "id": "gMqEnEU3OOFO",
        "outputId": "b02b0533-19d9-449e-e39b-6271b9c7e0d0"
      },
      "outputs": [
        {
          "output_type": "stream",
          "name": "stdout",
          "text": [
            "135.456\n",
            "1532.088\n",
            "9.8747591522158\n",
            "144\n",
            "3\n"
          ]
        }
      ],
      "source": [
        "integer_value = 123\n",
        "float_value = 12.456\n",
        "\n",
        "# 1. 더하기 연산\n",
        "sumation = integer_value+float_value\n",
        "print(sumation)\n",
        "\n",
        "# 2. 곱하기 연산\n",
        "multiple = integer_value*float_value\n",
        "print(multiple)\n",
        "\n",
        "# 3. 나누기 연산\n",
        "division = integer_value/float_value\n",
        "print(division)\n",
        "\n",
        "# 4. 제곱연산\n",
        "integer_value2 = int(float_value)\n",
        "exponential = integer_value2**2\n",
        "print(exponential)\n",
        "\n",
        "# 5. 나머지 연산\n",
        "mod = integer_value%int(float_value)\n",
        "print(mod)"
      ]
    },
    {
      "cell_type": "markdown",
      "metadata": {
        "id": "bn9l__PwOOFQ"
      },
      "source": [
        "### [실습]\n",
        "현재 시간과 분을 입력값으로 받아서\n",
        "두개의 값을 더하는 연산을 수행하세요"
      ]
    },
    {
      "cell_type": "code",
      "execution_count": 10,
      "metadata": {
        "colab": {
          "base_uri": "https://localhost:8080/"
        },
        "id": "bm0RWADKOOFR",
        "outputId": "0fe1a7de-bf60-48cb-859b-9eb780eed807"
      },
      "outputs": [
        {
          "output_type": "execute_result",
          "data": {
            "text/plain": [
              "26"
            ]
          },
          "metadata": {},
          "execution_count": 10
        }
      ],
      "source": [
        "time = 13\n",
        "minutes = 13\n",
        "sumation = time+minutes\n",
        "sumation"
      ]
    },
    {
      "cell_type": "code",
      "execution_count": 11,
      "metadata": {
        "id": "MHrxIimLOOFT"
      },
      "outputs": [],
      "source": [
        "import datetime as dt"
      ]
    },
    {
      "cell_type": "code",
      "execution_count": 12,
      "metadata": {
        "colab": {
          "base_uri": "https://localhost:8080/"
        },
        "id": "O2fnzTHDOOFV",
        "outputId": "f7d6f35b-084b-473a-d2a7-8413a6a1abb2"
      },
      "outputs": [
        {
          "output_type": "execute_result",
          "data": {
            "text/plain": [
              "datetime.datetime(2025, 4, 16, 7, 14, 37, 214116)"
            ]
          },
          "metadata": {},
          "execution_count": 12
        }
      ],
      "source": [
        "current_time = dt.datetime.now()\n",
        "current_time"
      ]
    },
    {
      "cell_type": "code",
      "execution_count": 13,
      "metadata": {
        "colab": {
          "base_uri": "https://localhost:8080/"
        },
        "id": "1_Ehmmx4OOFW",
        "outputId": "857a9f0d-feb0-4531-df83-f4f70dcc1def"
      },
      "outputs": [
        {
          "output_type": "execute_result",
          "data": {
            "text/plain": [
              "21"
            ]
          },
          "metadata": {},
          "execution_count": 13
        }
      ],
      "source": [
        "current_hour = current_time.hour\n",
        "current_minutes = current_time.minute\n",
        "sumation= current_hour + current_minutes\n",
        "sumation"
      ]
    },
    {
      "cell_type": "code",
      "execution_count": 14,
      "metadata": {
        "id": "yFK7W8_NOOFZ"
      },
      "outputs": [],
      "source": [
        "aaa = 11.222"
      ]
    },
    {
      "cell_type": "code",
      "execution_count": 15,
      "metadata": {
        "colab": {
          "base_uri": "https://localhost:8080/"
        },
        "id": "hzohrcNoOOFa",
        "outputId": "181a5dda-e24a-486b-ae0a-df5d09e3cd5d"
      },
      "outputs": [
        {
          "output_type": "execute_result",
          "data": {
            "text/plain": [
              "float"
            ]
          },
          "metadata": {},
          "execution_count": 15
        }
      ],
      "source": [
        "type(aaa)"
      ]
    },
    {
      "cell_type": "code",
      "execution_count": 16,
      "metadata": {
        "colab": {
          "base_uri": "https://localhost:8080/"
        },
        "id": "pI4pDXk6OOFc",
        "outputId": "d5f8ee6e-fb79-4794-bc13-926a05263ba5"
      },
      "outputs": [
        {
          "output_type": "stream",
          "name": "stdout",
          "text": [
            "19\n"
          ]
        }
      ],
      "source": [
        "time = 7\n",
        "day = 12\n",
        "\n",
        "sumation = 7+12\n",
        "print(sumation)"
      ]
    },
    {
      "cell_type": "code",
      "execution_count": 17,
      "metadata": {
        "colab": {
          "base_uri": "https://localhost:8080/"
        },
        "id": "aAvpBEaZOOFc",
        "outputId": "9553c8f5-30e9-4c78-eb0a-3a67d30a1157"
      },
      "outputs": [
        {
          "output_type": "stream",
          "name": "stdout",
          "text": [
            "7 시 16 일 합계는 ->  23\n"
          ]
        }
      ],
      "source": [
        "import datetime as dt\n",
        "\n",
        "s = dt.datetime.now()\n",
        "#시간정보\n",
        "time = s.hour\n",
        "date = s.day\n",
        "\n",
        "sumation = time+date\n",
        "print(time, \"시\", date, \"일\" , \"합계는 -> \", sumation)"
      ]
    },
    {
      "cell_type": "markdown",
      "metadata": {
        "id": "LklEJX8WOOFd"
      },
      "source": [
        "# 2. 문자열"
      ]
    },
    {
      "cell_type": "markdown",
      "metadata": {
        "id": "3kIWdlKWOOFe"
      },
      "source": [
        "문자, 단어등으로 구성된 집합"
      ]
    },
    {
      "cell_type": "code",
      "execution_count": 18,
      "metadata": {
        "colab": {
          "base_uri": "https://localhost:8080/"
        },
        "id": "S1jcmLGrOOFf",
        "outputId": "df38d816-61cc-4d4a-a805-117c70e019fb"
      },
      "outputs": [
        {
          "output_type": "stream",
          "name": "stdout",
          "text": [
            "This is 'String' value\n",
            "This is \"String\" value\n",
            " This is\n",
            "'String\" value\n"
          ]
        }
      ],
      "source": [
        "aType = \"This is 'String' value\"\n",
        "print(aType)\n",
        "bType = 'This is \"String\" value'\n",
        "print(bType)\n",
        "cType = \"\"\" This is\n",
        "'String\" value\"\"\"\n",
        "print(cType)"
      ]
    },
    {
      "cell_type": "markdown",
      "metadata": {
        "id": "iVq4Fn8ZOOFf"
      },
      "source": [
        "### (1) 기본연산"
      ]
    },
    {
      "cell_type": "code",
      "execution_count": 19,
      "metadata": {
        "colab": {
          "base_uri": "https://localhost:8080/"
        },
        "id": "VKulMKa0OOFg",
        "outputId": "fc7059d9-91f6-4671-ca03-9566fcc2a3b5"
      },
      "outputs": [
        {
          "output_type": "stream",
          "name": "stdout",
          "text": [
            "smart analytics\n",
            "********************\n",
            "2\n",
            "2018\n",
            "01\n",
            "0\n",
            "01\n"
          ]
        }
      ],
      "source": [
        "#문자열 더하기\n",
        "head = \"smart\"\n",
        "tail = \"analytics\"\n",
        "fullString = head+\" \"+tail\n",
        "print(fullString)\n",
        "\n",
        "#문자열 곱하기\n",
        "print(\"*\"*20)\n",
        "\n",
        "#문자열 인덱싱 0부터 시작\n",
        "yearweek = \"201801\"\n",
        "print(yearweek[0])   #첫번째 문자열\n",
        "print(yearweek[0:4]) #0~4번째 전 문자열\n",
        "print(yearweek[4:])  #4번째부터 끝까지\n",
        "print(yearweek[-2])  #끝에서 두 번째 문자열\n",
        "print(yearweek[-2:])  #끝에서 두 번째부터 마지막까지 인덱스"
      ]
    },
    {
      "cell_type": "markdown",
      "metadata": {
        "id": "Nts6Z9UCOOFh"
      },
      "source": [
        "### (2) 자주 사용되는 연산"
      ]
    },
    {
      "cell_type": "code",
      "execution_count": 20,
      "metadata": {
        "colab": {
          "base_uri": "https://localhost:8080/"
        },
        "id": "ei8f5LsPOOFi",
        "outputId": "11939c7d-e24e-4095-f1fc-14450a4e51bf"
      },
      "outputs": [
        {
          "output_type": "stream",
          "name": "stdout",
          "text": [
            "1\n",
            "4\n",
            "201728\n",
            "LED_TV\n",
            "led_tv\n",
            "2017_28\n",
            "['2017', '28']\n"
          ]
        }
      ],
      "source": [
        "#문자열 개수세기 (count)\n",
        "yearweek = \"2017W28\"\n",
        "print(yearweek.count(\"W\"))\n",
        "\n",
        "#문자열 위치확인 (index)\n",
        "print(yearweek.index(\"W\"))\n",
        "delimeter=yearweek.index(\"W\")\n",
        "newYearweek = yearweek[:delimeter]+yearweek[delimeter+1:]\n",
        "print(newYearweek)\n",
        "\n",
        "# 대소문자 구별함수 (upper/lower)\n",
        "letters = \"LeD_tv\"\n",
        "print(letters.upper())\n",
        "print(letters.lower())\n",
        "\n",
        "# 문자 치환 (replace)\n",
        "repLetters = \"2017W28\"\n",
        "print(repLetters.replace(\"W\",\"_\"))\n",
        "\n",
        "# 문자 분리 (split)\n",
        "yearweek_list = yearweek.split(\"W\")\n",
        "print(yearweek_list)"
      ]
    },
    {
      "cell_type": "markdown",
      "metadata": {
        "id": "hWEB_690OOFi"
      },
      "source": [
        "### [실습1]\n",
        "\"SEC 20180212 250\"  문자열 생성 후\n",
        "stock_name, date, value로 각각 의미하는\n",
        "문자열을 생성하세요"
      ]
    },
    {
      "cell_type": "code",
      "execution_count": 21,
      "metadata": {
        "id": "oZVtdjEnOOFj"
      },
      "outputs": [],
      "source": [
        "testData = \"SEC 20180212 250\""
      ]
    },
    {
      "cell_type": "code",
      "execution_count": 22,
      "metadata": {
        "id": "J1T1kXiHOOFk"
      },
      "outputs": [],
      "source": [
        "testDataSplit = testData.split(\" \")\n"
      ]
    },
    {
      "cell_type": "code",
      "execution_count": 23,
      "metadata": {
        "id": "84owdyP4OOFk"
      },
      "outputs": [],
      "source": [
        "stockname = testDataSplit[0]\n",
        "date = testDataSplit[1]\n",
        "value = testDataSplit[2]"
      ]
    },
    {
      "cell_type": "code",
      "execution_count": 24,
      "metadata": {
        "colab": {
          "base_uri": "https://localhost:8080/"
        },
        "id": "QqIhChp3OOFl",
        "outputId": "7b3185b5-9356-4a60-f9f6-c62e3778e46b"
      },
      "outputs": [
        {
          "output_type": "stream",
          "name": "stdout",
          "text": [
            "SEC\n",
            "20180212\n",
            "250\n"
          ]
        }
      ],
      "source": [
        "print(stockname)\n",
        "print(date)\n",
        "print(value)"
      ]
    },
    {
      "cell_type": "markdown",
      "metadata": {
        "id": "RaqKRdYHOOFm"
      },
      "source": [
        "### [실습2]\n",
        "“Sec 2018W28 250”  문자열 생성 후\n",
        "stock_name, date, value로 각각 의미하는\n",
        "문자열을 생성하세요\n",
        "(단 모두 대문자여야 하며, ‘W’를 삭제해야함)"
      ]
    },
    {
      "cell_type": "code",
      "execution_count": 25,
      "metadata": {
        "colab": {
          "base_uri": "https://localhost:8080/",
          "height": 35
        },
        "id": "j0BBTUSpOOFm",
        "outputId": "38947330-0986-46b8-c404-9e6b57e5cbbd"
      },
      "outputs": [
        {
          "output_type": "execute_result",
          "data": {
            "text/plain": [
              "'Sec 2017W28 250'"
            ],
            "application/vnd.google.colaboratory.intrinsic+json": {
              "type": "string"
            }
          },
          "metadata": {},
          "execution_count": 25
        }
      ],
      "source": [
        "testData2 = \"Sec 2017W28 250\"\n",
        "testData2"
      ]
    },
    {
      "cell_type": "markdown",
      "metadata": {
        "id": "FMi8VgvyOOFn"
      },
      "source": [
        "### (3) 자료형 변환"
      ]
    },
    {
      "cell_type": "code",
      "execution_count": 26,
      "metadata": {
        "colab": {
          "base_uri": "https://localhost:8080/"
        },
        "id": "I9wQ1bYMOOFn",
        "outputId": "f1f91ede-e21d-4587-ccbe-6f3f6f52e366"
      },
      "outputs": [
        {
          "output_type": "stream",
          "name": "stdout",
          "text": [
            "<class 'int'>\n",
            "<class 'float'>\n",
            "<class 'str'>\n"
          ]
        }
      ],
      "source": [
        "#문자 → 수(정수)\n",
        "strValue = \"1234\"\n",
        "cvIntValue = int(strValue)\n",
        "print(type(cvIntValue))\n",
        "\n",
        "#문자 → 수(실수)\n",
        "strValue = \"1234\"\n",
        "cvFloatValue = float(strValue)\n",
        "print(type(cvFloatValue))\n",
        "\n",
        "#숫자 → 문자\n",
        "numberValue = 1234\n",
        "cvStrValue = str(numberValue)\n",
        "print(type(cvStrValue))"
      ]
    },
    {
      "cell_type": "markdown",
      "metadata": {
        "id": "1F-KkLGMOOFp"
      },
      "source": [
        "### 참조 [문자열 분리]"
      ]
    },
    {
      "cell_type": "code",
      "execution_count": 27,
      "metadata": {
        "colab": {
          "base_uri": "https://localhost:8080/",
          "height": 35
        },
        "id": "e3wbYLe_OOFq",
        "outputId": "eb0afdf3-d932-43cd-e590-4a6e60529544"
      },
      "outputs": [
        {
          "output_type": "execute_result",
          "data": {
            "text/plain": [
              "'12'"
            ],
            "application/vnd.google.colaboratory.intrinsic+json": {
              "type": "string"
            }
          },
          "metadata": {},
          "execution_count": 27
        }
      ],
      "source": [
        "orgletter = \"2017w12\"\n",
        "\n",
        "splitter = \"w\"\n",
        "\n",
        "answer = orgletter.split(splitter)\n",
        "\n",
        "answer[0]\n",
        "\n",
        "answer[1]"
      ]
    },
    {
      "cell_type": "markdown",
      "metadata": {
        "id": "dqd3GHvtOOFr"
      },
      "source": [
        "# 3. 리스트"
      ]
    },
    {
      "cell_type": "markdown",
      "metadata": {
        "id": "7Ws1dGbvOOFr"
      },
      "source": [
        "특정 집합 모음을 표현할 수 있는 자료형"
      ]
    },
    {
      "cell_type": "code",
      "execution_count": 28,
      "metadata": {
        "colab": {
          "base_uri": "https://localhost:8080/"
        },
        "id": "faywhf40OOFs",
        "outputId": "a0be936e-69ea-4600-94c4-adb79879fd34"
      },
      "outputs": [
        {
          "output_type": "stream",
          "name": "stdout",
          "text": [
            "[120, 130, 150, 200, 170]\n",
            "['SEC', 120, 130, [201712, 201713]]\n"
          ]
        }
      ],
      "source": [
        "emptyList = []\n",
        "priceList = [120,130,150,200,170]\n",
        "print(priceList)\n",
        "secInfo = [\"SEC\",120,130, [201712,201713]]\n",
        "print(secInfo)"
      ]
    },
    {
      "cell_type": "markdown",
      "metadata": {
        "id": "HuYb8Te1OOFt"
      },
      "source": [
        "### (1) 기본 연산"
      ]
    },
    {
      "cell_type": "code",
      "execution_count": 29,
      "metadata": {
        "colab": {
          "base_uri": "https://localhost:8080/"
        },
        "id": "h_4vPhGdOOFt",
        "outputId": "be2a3e25-03aa-4ec9-e510-6895c40ad746"
      },
      "outputs": [
        {
          "output_type": "stream",
          "name": "stdout",
          "text": [
            "['SEC', 120, 130, [201712, 201713]]\n",
            "120\n",
            "[201712, 201713]\n",
            "201712\n",
            "['SEC', 120, 130]\n",
            "SEC\n"
          ]
        }
      ],
      "source": [
        "#리스트 연산\n",
        "stockName = [\"SEC\"]\n",
        "priceList = [120,130]\n",
        "dateList = [201712,201713]\n",
        "\n",
        "secinfo = stockName+priceList+[dateList]\n",
        "print(secinfo)\n",
        "\n",
        "#리스트 인덱싱\n",
        "secinfo=[\"SEC\",120,130,[201712,201713]]\n",
        "print(secinfo[1])\n",
        "print(secinfo[3])\n",
        "print(secinfo[3][0])\n",
        "print(secinfo[0:3])\n",
        "print(secinfo[-4]) # 끝에서 4번째인덱스"
      ]
    },
    {
      "cell_type": "markdown",
      "metadata": {
        "id": "CyruSi1JOOGA"
      },
      "source": [
        "### (2) 리스트 값 수정"
      ]
    },
    {
      "cell_type": "code",
      "execution_count": 30,
      "metadata": {
        "colab": {
          "base_uri": "https://localhost:8080/"
        },
        "id": "DxNRitjnOOGB",
        "outputId": "6d043101-14a1-46fe-e2ca-6ffd1a6ceec8"
      },
      "outputs": [
        {
          "output_type": "stream",
          "name": "stdout",
          "text": [
            "[120, 130, 140, 150]\n",
            "[120, 130, 180, 150]\n",
            "[120, 180]\n"
          ]
        }
      ],
      "source": [
        "#리스트 값 업데이트 하기\n",
        "updateList = [120,130,140,150]\n",
        "print(updateList)\n",
        "updateList[2] = 180\n",
        "print(updateList)\n",
        "\n",
        "#리스트 값 삭제하기\n",
        "updateList.remove(130)\n",
        "del updateList[2]\n",
        "print(updateList)\n",
        "\n",
        "#리스트 구간 데이터 삭제하기 구간 (1 이후 인덱스 삭제)\n",
        "updateList[ 1 : ] = []"
      ]
    },
    {
      "cell_type": "markdown",
      "metadata": {
        "id": "9YrPPKJZOOGC"
      },
      "source": [
        "### (3) 자주 사용되는 연산"
      ]
    },
    {
      "cell_type": "code",
      "execution_count": 31,
      "metadata": {
        "colab": {
          "base_uri": "https://localhost:8080/"
        },
        "id": "5RmfS5IDOOGC",
        "outputId": "16a2075f-02a6-4abb-b302-a01a7783e113"
      },
      "outputs": [
        {
          "output_type": "stream",
          "name": "stdout",
          "text": [
            "[120, 130, 140, 100, 150, 100, 11, 12]\n",
            "[11, 12, 100, 100, 120, 130, 140, 150]\n",
            "7\n",
            "8\n",
            "11\n",
            "150\n",
            "763\n"
          ]
        },
        {
          "output_type": "execute_result",
          "data": {
            "text/plain": [
              "2"
            ]
          },
          "metadata": {},
          "execution_count": 31
        }
      ],
      "source": [
        "functionList = [120, 130, 140, 150]\n",
        "\n",
        "#리스트에 아이템 추가하기\n",
        "functionList.append(100)\n",
        "functionList.insert(3, 100)\n",
        "functionList.extend( [11, 12] )\n",
        "print(functionList)\n",
        "\n",
        "#리스트 정렬하기\n",
        "functionList.sort(reverse = False)\n",
        "print(functionList)\n",
        "\n",
        "#값으로 인덱스 가져오기\n",
        "print(functionList.index(150))\n",
        "\n",
        "#리스트 자주사용하는 함수\n",
        "print(len(functionList))\n",
        "print(min(functionList))\n",
        "print(max(functionList))\n",
        "print(sum(functionList))\n",
        "\n",
        "#리스트에 아이템 개수 세기\n",
        "functionList = [120,130,140,150,120]\n",
        "functionList.count(120)"
      ]
    },
    {
      "cell_type": "markdown",
      "metadata": {
        "id": "yOI1MSqMOOGD"
      },
      "source": [
        "참조"
      ]
    },
    {
      "cell_type": "code",
      "execution_count": 32,
      "metadata": {
        "colab": {
          "base_uri": "https://localhost:8080/"
        },
        "id": "icT0IkO9OOGE",
        "outputId": "8171f8d2-def2-48d1-b012-b560c482cf76"
      },
      "outputs": [
        {
          "output_type": "execute_result",
          "data": {
            "text/plain": [
              "2"
            ]
          },
          "metadata": {},
          "execution_count": 32
        }
      ],
      "source": [
        "functionList =  [120,130,140,150,120]\n",
        "functionList.count(120)"
      ]
    },
    {
      "cell_type": "markdown",
      "metadata": {
        "id": "WGEI4C7fOOGF"
      },
      "source": [
        "### [실습]\n",
        "[120,150,300,500,1000,100,2000]\n",
        "값에서 최소 최대 값을 뺀 평균을\n",
        "average 이름의 변수에 담으세요"
      ]
    },
    {
      "cell_type": "markdown",
      "metadata": {
        "id": "WnIAQOdOOOGF"
      },
      "source": [
        "풀이#1"
      ]
    },
    {
      "cell_type": "code",
      "execution_count": 33,
      "metadata": {
        "id": "VhcuH1F1OOGG"
      },
      "outputs": [],
      "source": [
        "test = [120,150,300,500,1000,100,2000]"
      ]
    },
    {
      "cell_type": "code",
      "execution_count": 34,
      "metadata": {
        "id": "_9kMSowLOOGH"
      },
      "outputs": [],
      "source": [
        "test.remove(min(test))"
      ]
    },
    {
      "cell_type": "code",
      "execution_count": 35,
      "metadata": {
        "id": "5GcmihHmOOGH"
      },
      "outputs": [],
      "source": [
        "test.remove(max(test))"
      ]
    },
    {
      "cell_type": "code",
      "execution_count": 36,
      "metadata": {
        "colab": {
          "base_uri": "https://localhost:8080/"
        },
        "id": "acvNd9R0OOGI",
        "outputId": "3530e491-49a1-425f-e602-75dbe0e033fe"
      },
      "outputs": [
        {
          "output_type": "execute_result",
          "data": {
            "text/plain": [
              "[120, 150, 300, 500, 1000]"
            ]
          },
          "metadata": {},
          "execution_count": 36
        }
      ],
      "source": [
        "test"
      ]
    },
    {
      "cell_type": "code",
      "execution_count": 37,
      "metadata": {
        "id": "BKYJPvqfOOGI"
      },
      "outputs": [],
      "source": [
        "average = sum(test)/len(test)"
      ]
    },
    {
      "cell_type": "code",
      "execution_count": 38,
      "metadata": {
        "colab": {
          "base_uri": "https://localhost:8080/"
        },
        "id": "C43PtUSMOOGJ",
        "outputId": "80ebc39d-5111-4ef6-a694-7c213908fb7b"
      },
      "outputs": [
        {
          "output_type": "execute_result",
          "data": {
            "text/plain": [
              "414.0"
            ]
          },
          "metadata": {},
          "execution_count": 38
        }
      ],
      "source": [
        "average"
      ]
    },
    {
      "cell_type": "markdown",
      "metadata": {
        "id": "0tktt0SBOOGL"
      },
      "source": [
        "풀이 #2"
      ]
    },
    {
      "cell_type": "code",
      "execution_count": 39,
      "metadata": {
        "id": "4rXSqznEOOGM"
      },
      "outputs": [],
      "source": [
        "test = [120,150,300,500,1000,100,2000]"
      ]
    },
    {
      "cell_type": "code",
      "execution_count": 40,
      "metadata": {
        "colab": {
          "base_uri": "https://localhost:8080/"
        },
        "id": "rLlGABzXOOGN",
        "outputId": "510e121e-edd7-48e3-9136-0c3d785698ad"
      },
      "outputs": [
        {
          "output_type": "execute_result",
          "data": {
            "text/plain": [
              "5"
            ]
          },
          "metadata": {},
          "execution_count": 40
        }
      ],
      "source": [
        "minValueIndex = test.index(min(test))\n",
        "minValueIndex"
      ]
    },
    {
      "cell_type": "code",
      "execution_count": 41,
      "metadata": {
        "id": "TpMzOhqiOOGP"
      },
      "outputs": [],
      "source": [
        "del test[minValueIndex]"
      ]
    },
    {
      "cell_type": "code",
      "execution_count": 42,
      "metadata": {
        "scrolled": true,
        "colab": {
          "base_uri": "https://localhost:8080/"
        },
        "id": "YYk3zvUrOOGR",
        "outputId": "b273bae9-f731-49ac-b52d-ade300de5319"
      },
      "outputs": [
        {
          "output_type": "execute_result",
          "data": {
            "text/plain": [
              "5"
            ]
          },
          "metadata": {},
          "execution_count": 42
        }
      ],
      "source": [
        "maxValueIndex = test.index(max(test))\n",
        "maxValueIndex"
      ]
    },
    {
      "cell_type": "code",
      "execution_count": 43,
      "metadata": {
        "id": "UTDM-28ZOOGS"
      },
      "outputs": [],
      "source": [
        "del test[maxValueIndex]"
      ]
    },
    {
      "cell_type": "code",
      "execution_count": 44,
      "metadata": {
        "colab": {
          "base_uri": "https://localhost:8080/"
        },
        "id": "55a6o8h4OOGS",
        "outputId": "4e395647-1c7a-4d2e-a193-9898a5b498a3"
      },
      "outputs": [
        {
          "output_type": "execute_result",
          "data": {
            "text/plain": [
              "[120, 150, 300, 500, 1000]"
            ]
          },
          "metadata": {},
          "execution_count": 44
        }
      ],
      "source": [
        "test"
      ]
    },
    {
      "cell_type": "code",
      "execution_count": 45,
      "metadata": {
        "id": "mZVjqT8iOOGT"
      },
      "outputs": [],
      "source": [
        "average =0.0\n",
        "if len(test)!=0:\n",
        "  average = sum(test)/len(test)\n",
        "else:\n",
        "    average = 1"
      ]
    },
    {
      "cell_type": "code",
      "execution_count": 46,
      "metadata": {
        "colab": {
          "base_uri": "https://localhost:8080/"
        },
        "id": "pxldqH1aOOGU",
        "outputId": "10b183c9-78af-4452-d373-bd401891a228"
      },
      "outputs": [
        {
          "output_type": "execute_result",
          "data": {
            "text/plain": [
              "414.0"
            ]
          },
          "metadata": {},
          "execution_count": 46
        }
      ],
      "source": [
        "average"
      ]
    },
    {
      "cell_type": "code",
      "execution_count": 47,
      "metadata": {
        "id": "vkXpQKUGOOGV"
      },
      "outputs": [],
      "source": [
        "average = sum(test)/len(test)"
      ]
    },
    {
      "cell_type": "code",
      "execution_count": 48,
      "metadata": {
        "colab": {
          "base_uri": "https://localhost:8080/"
        },
        "id": "hRC8MYLLOOGW",
        "outputId": "ab2fc70a-33a1-4228-ecc9-f56a7f8054d9"
      },
      "outputs": [
        {
          "output_type": "execute_result",
          "data": {
            "text/plain": [
              "414.0"
            ]
          },
          "metadata": {},
          "execution_count": 48
        }
      ],
      "source": [
        "average"
      ]
    },
    {
      "cell_type": "markdown",
      "metadata": {
        "id": "zOA4_c1sOOGW"
      },
      "source": [
        "# 4. 튜플 (Tuple)"
      ]
    },
    {
      "cell_type": "code",
      "execution_count": 49,
      "metadata": {
        "id": "DkA9HOCBOOGX"
      },
      "outputs": [],
      "source": [
        "emptyTuple = ()\n",
        "timeTuple = (1,2,3,4,5,6)"
      ]
    },
    {
      "cell_type": "markdown",
      "metadata": {
        "id": "xehn4cfsOOGY"
      },
      "source": [
        "튜플 기본연산"
      ]
    },
    {
      "cell_type": "code",
      "execution_count": 50,
      "metadata": {
        "colab": {
          "base_uri": "https://localhost:8080/"
        },
        "id": "MiEwPB_0OOGY",
        "outputId": "6f14661a-033c-4921-f12d-c874b7a27f6b"
      },
      "outputs": [
        {
          "output_type": "stream",
          "name": "stdout",
          "text": [
            "2\n",
            "4\n",
            "(1, 2, 3)\n"
          ]
        },
        {
          "output_type": "execute_result",
          "data": {
            "text/plain": [
              "6"
            ]
          },
          "metadata": {},
          "execution_count": 50
        }
      ],
      "source": [
        "#튜플 인덱싱\n",
        "timeTuple = (1,2,3,4,5,6)\n",
        "\n",
        "print(timeTuple[1])\n",
        "print(timeTuple[3])\n",
        "print(timeTuple[0:3])\n",
        "\n",
        "# 튜플 길이\n",
        "len(timeTuple)"
      ]
    },
    {
      "cell_type": "markdown",
      "metadata": {
        "id": "mWsjapeQOOGZ"
      },
      "source": [
        "# 5. Dictionary"
      ]
    },
    {
      "cell_type": "markdown",
      "metadata": {
        "id": "FN5ITz2jOOGa"
      },
      "source": [
        "(Key, Value) 형태 자료 구조로 특정년도의 주식명을  키로 요청하면 주가총액을 value로 불러오는 형태"
      ]
    },
    {
      "cell_type": "code",
      "execution_count": 51,
      "metadata": {
        "id": "wlbH_ddOOOGb"
      },
      "outputs": [],
      "source": [
        "dic = {\"name\":\"sec\",\"id\":\"3000000\",\"address\":\"suwon\"}"
      ]
    },
    {
      "cell_type": "code",
      "execution_count": 52,
      "metadata": {
        "colab": {
          "base_uri": "https://localhost:8080/"
        },
        "id": "FStM__1UOOGb",
        "outputId": "69aadb78-00be-4159-8e4d-a8b57fd49908"
      },
      "outputs": [
        {
          "output_type": "stream",
          "name": "stdout",
          "text": [
            "{'name': 'sec', 'id': '3000000', 'address': 'suwon'}\n"
          ]
        }
      ],
      "source": [
        "print(dic)"
      ]
    },
    {
      "cell_type": "code",
      "execution_count": 53,
      "metadata": {
        "colab": {
          "base_uri": "https://localhost:8080/"
        },
        "id": "TDFCRV1HOOGc",
        "outputId": "3c737a8f-7977-43af-f9a4-e8bdf6aff23c"
      },
      "outputs": [
        {
          "output_type": "execute_result",
          "data": {
            "text/plain": [
              "dict_keys(['name', 'id', 'address'])"
            ]
          },
          "metadata": {},
          "execution_count": 53
        }
      ],
      "source": [
        "dic.keys()"
      ]
    },
    {
      "cell_type": "code",
      "execution_count": 54,
      "metadata": {
        "colab": {
          "base_uri": "https://localhost:8080/"
        },
        "id": "UwFmR_iaOOGd",
        "outputId": "a06055c8-d66b-4cbc-b63b-6adec4eaced2"
      },
      "outputs": [
        {
          "output_type": "execute_result",
          "data": {
            "text/plain": [
              "dict_values(['sec', '3000000', 'suwon'])"
            ]
          },
          "metadata": {},
          "execution_count": 54
        }
      ],
      "source": [
        "dic.values()"
      ]
    },
    {
      "cell_type": "code",
      "execution_count": 55,
      "metadata": {
        "colab": {
          "base_uri": "https://localhost:8080/"
        },
        "id": "5KlbsK_mOOGe",
        "outputId": "59c9857c-1088-410b-b17c-71335d8a4a74"
      },
      "outputs": [
        {
          "output_type": "stream",
          "name": "stdout",
          "text": [
            "{'name': 'sec', 'id': '300000', 'address': 'suwon'}\n",
            "sec\n",
            "{'name': 'sec2', 'id': '300000', 'address': 'suwon', 'stock': 'yes'}\n",
            "yes\n",
            "{'id': '300000', 'address': 'suwon', 'stock': 'yes'}\n"
          ]
        }
      ],
      "source": [
        "dic = {\"name\":\"sec\", \"id\":\"300000\", \"address\":\"suwon\" }\n",
        "print(dic)\n",
        "print(dic[\"name\"])\n",
        "\n",
        "# dictionary key value 추가/변경\n",
        "dic[\"name\"] = \"sec2\"\n",
        "dic[\"stock\"] = \"yes\"\n",
        "print(dic)\n",
        "print(dic[\"stock\"])\n",
        "\n",
        "# dictionary 아이템 삭제하기\n",
        "dic.pop(\"name\")\n",
        "print(dic)"
      ]
    },
    {
      "cell_type": "markdown",
      "metadata": {
        "id": "RV-rjPyBOOGg"
      },
      "source": [
        "### [실습]\n",
        "dic = {\"name\":\"sec\",\"id\":\"300000\",\"address\":\"suwon\"} 에서\n",
        "id 키 값을 삭제하여 출력하세요\n",
        "{'name': 'sec', 'address': 'suwon’}"
      ]
    },
    {
      "cell_type": "code",
      "execution_count": 56,
      "metadata": {
        "id": "QY9f8qvhOOGh"
      },
      "outputs": [],
      "source": [
        "dic = {\"name\":\"sec\",\"id\":\"300000\",\"address\":\"suwon\"}"
      ]
    },
    {
      "cell_type": "code",
      "execution_count": 57,
      "metadata": {
        "colab": {
          "base_uri": "https://localhost:8080/"
        },
        "id": "__JTMW1DOOGi",
        "outputId": "c63dd342-56b5-48db-d5f5-5e749ea28a35"
      },
      "outputs": [
        {
          "output_type": "execute_result",
          "data": {
            "text/plain": [
              "dict_keys(['name', 'id', 'address'])"
            ]
          },
          "metadata": {},
          "execution_count": 57
        }
      ],
      "source": [
        "dic.keys()"
      ]
    },
    {
      "cell_type": "code",
      "execution_count": 58,
      "metadata": {
        "colab": {
          "base_uri": "https://localhost:8080/",
          "height": 35
        },
        "id": "hBTGPZ1aOOGk",
        "outputId": "1d00b92f-13e0-4cc1-e7ef-c203494c2437"
      },
      "outputs": [
        {
          "output_type": "execute_result",
          "data": {
            "text/plain": [
              "'300000'"
            ],
            "application/vnd.google.colaboratory.intrinsic+json": {
              "type": "string"
            }
          },
          "metadata": {},
          "execution_count": 58
        }
      ],
      "source": [
        "dic.pop(\"id\")"
      ]
    },
    {
      "cell_type": "code",
      "execution_count": 59,
      "metadata": {
        "colab": {
          "base_uri": "https://localhost:8080/"
        },
        "id": "LaK6l667OOGl",
        "outputId": "df61af0d-3a75-4f40-b037-1330263652fa"
      },
      "outputs": [
        {
          "output_type": "execute_result",
          "data": {
            "text/plain": [
              "{'name': 'sec', 'address': 'suwon'}"
            ]
          },
          "metadata": {},
          "execution_count": 59
        }
      ],
      "source": [
        "dic"
      ]
    },
    {
      "cell_type": "markdown",
      "metadata": {
        "id": "aiduVNfgOOGn"
      },
      "source": [
        "# 5. Pandas Dataframe"
      ]
    },
    {
      "cell_type": "markdown",
      "metadata": {
        "id": "t-TzeoI2OOGn"
      },
      "source": [
        "행/열 구조의 가장 많이 활용되는 자료구조 형태"
      ]
    },
    {
      "cell_type": "markdown",
      "metadata": {
        "id": "ONUqZ30pOOGo"
      },
      "source": [
        "### 1. 딕셔너리를 활용한 Pandas DataFrame 생성"
      ]
    },
    {
      "cell_type": "code",
      "execution_count": 60,
      "metadata": {
        "colab": {
          "base_uri": "https://localhost:8080/"
        },
        "id": "NEch-_XNOOGo",
        "outputId": "9d482b8e-6237-4748-fc91-fea5423038b4"
      },
      "outputs": [
        {
          "output_type": "stream",
          "name": "stdout",
          "text": [
            "  name  age  stock_age\n",
            "0  A고객   27          2\n",
            "1  B고객   40         10\n",
            "2  C고객   33          5\n",
            "3  D고객   29          1\n"
          ]
        }
      ],
      "source": [
        "# 데이터 프레임 라이브러리 활용\n",
        "import pandas as pd\n",
        "\n",
        "# 딕셔너리를 활용한 데이터프레임 생성\n",
        "data = {'name': ['A고객','B고객','C고객','D고객'],\n",
        "        'age': [27,40,33,29],\n",
        "        'stock_age': [2,10,5,1]}\n",
        "dataFrame = pd.DataFrame(data)\n",
        "\n",
        "# 데이터 프레임 : 스프레드시트 형태의 자료구조\n",
        "print(dataFrame)"
      ]
    },
    {
      "cell_type": "markdown",
      "metadata": {
        "id": "o-Enz0M6OOGp"
      },
      "source": [
        "### 2. 리스트를 활용한 Pandas DataFrame 생성"
      ]
    },
    {
      "cell_type": "code",
      "execution_count": 61,
      "metadata": {
        "colab": {
          "base_uri": "https://localhost:8080/",
          "height": 175
        },
        "id": "oynUrCLSOOGq",
        "outputId": "af4bca13-d586-40f4-b416-8b4c8832d7fa"
      },
      "outputs": [
        {
          "output_type": "execute_result",
          "data": {
            "text/plain": [
              "       0\n",
              "0     10\n",
              "1    100\n",
              "2   1000\n",
              "3  10000"
            ],
            "text/html": [
              "\n",
              "  <div id=\"df-ccae9be2-aee6-4715-95be-316c5977f2b6\" class=\"colab-df-container\">\n",
              "    <div>\n",
              "<style scoped>\n",
              "    .dataframe tbody tr th:only-of-type {\n",
              "        vertical-align: middle;\n",
              "    }\n",
              "\n",
              "    .dataframe tbody tr th {\n",
              "        vertical-align: top;\n",
              "    }\n",
              "\n",
              "    .dataframe thead th {\n",
              "        text-align: right;\n",
              "    }\n",
              "</style>\n",
              "<table border=\"1\" class=\"dataframe\">\n",
              "  <thead>\n",
              "    <tr style=\"text-align: right;\">\n",
              "      <th></th>\n",
              "      <th>0</th>\n",
              "    </tr>\n",
              "  </thead>\n",
              "  <tbody>\n",
              "    <tr>\n",
              "      <th>0</th>\n",
              "      <td>10</td>\n",
              "    </tr>\n",
              "    <tr>\n",
              "      <th>1</th>\n",
              "      <td>100</td>\n",
              "    </tr>\n",
              "    <tr>\n",
              "      <th>2</th>\n",
              "      <td>1000</td>\n",
              "    </tr>\n",
              "    <tr>\n",
              "      <th>3</th>\n",
              "      <td>10000</td>\n",
              "    </tr>\n",
              "  </tbody>\n",
              "</table>\n",
              "</div>\n",
              "    <div class=\"colab-df-buttons\">\n",
              "\n",
              "  <div class=\"colab-df-container\">\n",
              "    <button class=\"colab-df-convert\" onclick=\"convertToInteractive('df-ccae9be2-aee6-4715-95be-316c5977f2b6')\"\n",
              "            title=\"Convert this dataframe to an interactive table.\"\n",
              "            style=\"display:none;\">\n",
              "\n",
              "  <svg xmlns=\"http://www.w3.org/2000/svg\" height=\"24px\" viewBox=\"0 -960 960 960\">\n",
              "    <path d=\"M120-120v-720h720v720H120Zm60-500h600v-160H180v160Zm220 220h160v-160H400v160Zm0 220h160v-160H400v160ZM180-400h160v-160H180v160Zm440 0h160v-160H620v160ZM180-180h160v-160H180v160Zm440 0h160v-160H620v160Z\"/>\n",
              "  </svg>\n",
              "    </button>\n",
              "\n",
              "  <style>\n",
              "    .colab-df-container {\n",
              "      display:flex;\n",
              "      gap: 12px;\n",
              "    }\n",
              "\n",
              "    .colab-df-convert {\n",
              "      background-color: #E8F0FE;\n",
              "      border: none;\n",
              "      border-radius: 50%;\n",
              "      cursor: pointer;\n",
              "      display: none;\n",
              "      fill: #1967D2;\n",
              "      height: 32px;\n",
              "      padding: 0 0 0 0;\n",
              "      width: 32px;\n",
              "    }\n",
              "\n",
              "    .colab-df-convert:hover {\n",
              "      background-color: #E2EBFA;\n",
              "      box-shadow: 0px 1px 2px rgba(60, 64, 67, 0.3), 0px 1px 3px 1px rgba(60, 64, 67, 0.15);\n",
              "      fill: #174EA6;\n",
              "    }\n",
              "\n",
              "    .colab-df-buttons div {\n",
              "      margin-bottom: 4px;\n",
              "    }\n",
              "\n",
              "    [theme=dark] .colab-df-convert {\n",
              "      background-color: #3B4455;\n",
              "      fill: #D2E3FC;\n",
              "    }\n",
              "\n",
              "    [theme=dark] .colab-df-convert:hover {\n",
              "      background-color: #434B5C;\n",
              "      box-shadow: 0px 1px 3px 1px rgba(0, 0, 0, 0.15);\n",
              "      filter: drop-shadow(0px 1px 2px rgba(0, 0, 0, 0.3));\n",
              "      fill: #FFFFFF;\n",
              "    }\n",
              "  </style>\n",
              "\n",
              "    <script>\n",
              "      const buttonEl =\n",
              "        document.querySelector('#df-ccae9be2-aee6-4715-95be-316c5977f2b6 button.colab-df-convert');\n",
              "      buttonEl.style.display =\n",
              "        google.colab.kernel.accessAllowed ? 'block' : 'none';\n",
              "\n",
              "      async function convertToInteractive(key) {\n",
              "        const element = document.querySelector('#df-ccae9be2-aee6-4715-95be-316c5977f2b6');\n",
              "        const dataTable =\n",
              "          await google.colab.kernel.invokeFunction('convertToInteractive',\n",
              "                                                    [key], {});\n",
              "        if (!dataTable) return;\n",
              "\n",
              "        const docLinkHtml = 'Like what you see? Visit the ' +\n",
              "          '<a target=\"_blank\" href=https://colab.research.google.com/notebooks/data_table.ipynb>data table notebook</a>'\n",
              "          + ' to learn more about interactive tables.';\n",
              "        element.innerHTML = '';\n",
              "        dataTable['output_type'] = 'display_data';\n",
              "        await google.colab.output.renderOutput(dataTable, element);\n",
              "        const docLink = document.createElement('div');\n",
              "        docLink.innerHTML = docLinkHtml;\n",
              "        element.appendChild(docLink);\n",
              "      }\n",
              "    </script>\n",
              "  </div>\n",
              "\n",
              "\n",
              "<div id=\"df-e564d8e0-7ff7-4ba4-9fb0-a5fe47774711\">\n",
              "  <button class=\"colab-df-quickchart\" onclick=\"quickchart('df-e564d8e0-7ff7-4ba4-9fb0-a5fe47774711')\"\n",
              "            title=\"Suggest charts\"\n",
              "            style=\"display:none;\">\n",
              "\n",
              "<svg xmlns=\"http://www.w3.org/2000/svg\" height=\"24px\"viewBox=\"0 0 24 24\"\n",
              "     width=\"24px\">\n",
              "    <g>\n",
              "        <path d=\"M19 3H5c-1.1 0-2 .9-2 2v14c0 1.1.9 2 2 2h14c1.1 0 2-.9 2-2V5c0-1.1-.9-2-2-2zM9 17H7v-7h2v7zm4 0h-2V7h2v10zm4 0h-2v-4h2v4z\"/>\n",
              "    </g>\n",
              "</svg>\n",
              "  </button>\n",
              "\n",
              "<style>\n",
              "  .colab-df-quickchart {\n",
              "      --bg-color: #E8F0FE;\n",
              "      --fill-color: #1967D2;\n",
              "      --hover-bg-color: #E2EBFA;\n",
              "      --hover-fill-color: #174EA6;\n",
              "      --disabled-fill-color: #AAA;\n",
              "      --disabled-bg-color: #DDD;\n",
              "  }\n",
              "\n",
              "  [theme=dark] .colab-df-quickchart {\n",
              "      --bg-color: #3B4455;\n",
              "      --fill-color: #D2E3FC;\n",
              "      --hover-bg-color: #434B5C;\n",
              "      --hover-fill-color: #FFFFFF;\n",
              "      --disabled-bg-color: #3B4455;\n",
              "      --disabled-fill-color: #666;\n",
              "  }\n",
              "\n",
              "  .colab-df-quickchart {\n",
              "    background-color: var(--bg-color);\n",
              "    border: none;\n",
              "    border-radius: 50%;\n",
              "    cursor: pointer;\n",
              "    display: none;\n",
              "    fill: var(--fill-color);\n",
              "    height: 32px;\n",
              "    padding: 0;\n",
              "    width: 32px;\n",
              "  }\n",
              "\n",
              "  .colab-df-quickchart:hover {\n",
              "    background-color: var(--hover-bg-color);\n",
              "    box-shadow: 0 1px 2px rgba(60, 64, 67, 0.3), 0 1px 3px 1px rgba(60, 64, 67, 0.15);\n",
              "    fill: var(--button-hover-fill-color);\n",
              "  }\n",
              "\n",
              "  .colab-df-quickchart-complete:disabled,\n",
              "  .colab-df-quickchart-complete:disabled:hover {\n",
              "    background-color: var(--disabled-bg-color);\n",
              "    fill: var(--disabled-fill-color);\n",
              "    box-shadow: none;\n",
              "  }\n",
              "\n",
              "  .colab-df-spinner {\n",
              "    border: 2px solid var(--fill-color);\n",
              "    border-color: transparent;\n",
              "    border-bottom-color: var(--fill-color);\n",
              "    animation:\n",
              "      spin 1s steps(1) infinite;\n",
              "  }\n",
              "\n",
              "  @keyframes spin {\n",
              "    0% {\n",
              "      border-color: transparent;\n",
              "      border-bottom-color: var(--fill-color);\n",
              "      border-left-color: var(--fill-color);\n",
              "    }\n",
              "    20% {\n",
              "      border-color: transparent;\n",
              "      border-left-color: var(--fill-color);\n",
              "      border-top-color: var(--fill-color);\n",
              "    }\n",
              "    30% {\n",
              "      border-color: transparent;\n",
              "      border-left-color: var(--fill-color);\n",
              "      border-top-color: var(--fill-color);\n",
              "      border-right-color: var(--fill-color);\n",
              "    }\n",
              "    40% {\n",
              "      border-color: transparent;\n",
              "      border-right-color: var(--fill-color);\n",
              "      border-top-color: var(--fill-color);\n",
              "    }\n",
              "    60% {\n",
              "      border-color: transparent;\n",
              "      border-right-color: var(--fill-color);\n",
              "    }\n",
              "    80% {\n",
              "      border-color: transparent;\n",
              "      border-right-color: var(--fill-color);\n",
              "      border-bottom-color: var(--fill-color);\n",
              "    }\n",
              "    90% {\n",
              "      border-color: transparent;\n",
              "      border-bottom-color: var(--fill-color);\n",
              "    }\n",
              "  }\n",
              "</style>\n",
              "\n",
              "  <script>\n",
              "    async function quickchart(key) {\n",
              "      const quickchartButtonEl =\n",
              "        document.querySelector('#' + key + ' button');\n",
              "      quickchartButtonEl.disabled = true;  // To prevent multiple clicks.\n",
              "      quickchartButtonEl.classList.add('colab-df-spinner');\n",
              "      try {\n",
              "        const charts = await google.colab.kernel.invokeFunction(\n",
              "            'suggestCharts', [key], {});\n",
              "      } catch (error) {\n",
              "        console.error('Error during call to suggestCharts:', error);\n",
              "      }\n",
              "      quickchartButtonEl.classList.remove('colab-df-spinner');\n",
              "      quickchartButtonEl.classList.add('colab-df-quickchart-complete');\n",
              "    }\n",
              "    (() => {\n",
              "      let quickchartButtonEl =\n",
              "        document.querySelector('#df-e564d8e0-7ff7-4ba4-9fb0-a5fe47774711 button');\n",
              "      quickchartButtonEl.style.display =\n",
              "        google.colab.kernel.accessAllowed ? 'block' : 'none';\n",
              "    })();\n",
              "  </script>\n",
              "</div>\n",
              "\n",
              "  <div id=\"id_ae1d7db1-fe59-4a9e-a1ab-35def5b61e2d\">\n",
              "    <style>\n",
              "      .colab-df-generate {\n",
              "        background-color: #E8F0FE;\n",
              "        border: none;\n",
              "        border-radius: 50%;\n",
              "        cursor: pointer;\n",
              "        display: none;\n",
              "        fill: #1967D2;\n",
              "        height: 32px;\n",
              "        padding: 0 0 0 0;\n",
              "        width: 32px;\n",
              "      }\n",
              "\n",
              "      .colab-df-generate:hover {\n",
              "        background-color: #E2EBFA;\n",
              "        box-shadow: 0px 1px 2px rgba(60, 64, 67, 0.3), 0px 1px 3px 1px rgba(60, 64, 67, 0.15);\n",
              "        fill: #174EA6;\n",
              "      }\n",
              "\n",
              "      [theme=dark] .colab-df-generate {\n",
              "        background-color: #3B4455;\n",
              "        fill: #D2E3FC;\n",
              "      }\n",
              "\n",
              "      [theme=dark] .colab-df-generate:hover {\n",
              "        background-color: #434B5C;\n",
              "        box-shadow: 0px 1px 3px 1px rgba(0, 0, 0, 0.15);\n",
              "        filter: drop-shadow(0px 1px 2px rgba(0, 0, 0, 0.3));\n",
              "        fill: #FFFFFF;\n",
              "      }\n",
              "    </style>\n",
              "    <button class=\"colab-df-generate\" onclick=\"generateWithVariable('testDf')\"\n",
              "            title=\"Generate code using this dataframe.\"\n",
              "            style=\"display:none;\">\n",
              "\n",
              "  <svg xmlns=\"http://www.w3.org/2000/svg\" height=\"24px\"viewBox=\"0 0 24 24\"\n",
              "       width=\"24px\">\n",
              "    <path d=\"M7,19H8.4L18.45,9,17,7.55,7,17.6ZM5,21V16.75L18.45,3.32a2,2,0,0,1,2.83,0l1.4,1.43a1.91,1.91,0,0,1,.58,1.4,1.91,1.91,0,0,1-.58,1.4L9.25,21ZM18.45,9,17,7.55Zm-12,3A5.31,5.31,0,0,0,4.9,8.1,5.31,5.31,0,0,0,1,6.5,5.31,5.31,0,0,0,4.9,4.9,5.31,5.31,0,0,0,6.5,1,5.31,5.31,0,0,0,8.1,4.9,5.31,5.31,0,0,0,12,6.5,5.46,5.46,0,0,0,6.5,12Z\"/>\n",
              "  </svg>\n",
              "    </button>\n",
              "    <script>\n",
              "      (() => {\n",
              "      const buttonEl =\n",
              "        document.querySelector('#id_ae1d7db1-fe59-4a9e-a1ab-35def5b61e2d button.colab-df-generate');\n",
              "      buttonEl.style.display =\n",
              "        google.colab.kernel.accessAllowed ? 'block' : 'none';\n",
              "\n",
              "      buttonEl.onclick = () => {\n",
              "        google.colab.notebook.generateWithVariable('testDf');\n",
              "      }\n",
              "      })();\n",
              "    </script>\n",
              "  </div>\n",
              "\n",
              "    </div>\n",
              "  </div>\n"
            ],
            "application/vnd.google.colaboratory.intrinsic+json": {
              "type": "dataframe",
              "variable_name": "testDf",
              "summary": "{\n  \"name\": \"testDf\",\n  \"rows\": 4,\n  \"fields\": [\n    {\n      \"column\": 0,\n      \"properties\": {\n        \"dtype\": \"number\",\n        \"std\": 4835,\n        \"min\": 10,\n        \"max\": 10000,\n        \"num_unique_values\": 4,\n        \"samples\": [\n          100,\n          10000,\n          10\n        ],\n        \"semantic_type\": \"\",\n        \"description\": \"\"\n      }\n    }\n  ]\n}"
            }
          },
          "metadata": {},
          "execution_count": 61
        }
      ],
      "source": [
        "import pandas as pd\n",
        "# 리스트 생성\n",
        "test = [10,100,1000,10000]\n",
        "# 데이터프레임 변환\n",
        "testDf = pd.DataFrame(test)\n",
        "testDf"
      ]
    },
    {
      "cell_type": "code",
      "execution_count": 62,
      "metadata": {
        "colab": {
          "base_uri": "https://localhost:8080/",
          "height": 175
        },
        "id": "RUX3XLbaOOGr",
        "outputId": "fd3e8a3b-1bd2-48b9-b8dd-624fcf67f4be"
      },
      "outputs": [
        {
          "output_type": "execute_result",
          "data": {
            "text/plain": [
              "    test\n",
              "0     10\n",
              "1    100\n",
              "2   1000\n",
              "3  10000"
            ],
            "text/html": [
              "\n",
              "  <div id=\"df-82446d3e-0203-4289-b260-5c86b5f630ae\" class=\"colab-df-container\">\n",
              "    <div>\n",
              "<style scoped>\n",
              "    .dataframe tbody tr th:only-of-type {\n",
              "        vertical-align: middle;\n",
              "    }\n",
              "\n",
              "    .dataframe tbody tr th {\n",
              "        vertical-align: top;\n",
              "    }\n",
              "\n",
              "    .dataframe thead th {\n",
              "        text-align: right;\n",
              "    }\n",
              "</style>\n",
              "<table border=\"1\" class=\"dataframe\">\n",
              "  <thead>\n",
              "    <tr style=\"text-align: right;\">\n",
              "      <th></th>\n",
              "      <th>test</th>\n",
              "    </tr>\n",
              "  </thead>\n",
              "  <tbody>\n",
              "    <tr>\n",
              "      <th>0</th>\n",
              "      <td>10</td>\n",
              "    </tr>\n",
              "    <tr>\n",
              "      <th>1</th>\n",
              "      <td>100</td>\n",
              "    </tr>\n",
              "    <tr>\n",
              "      <th>2</th>\n",
              "      <td>1000</td>\n",
              "    </tr>\n",
              "    <tr>\n",
              "      <th>3</th>\n",
              "      <td>10000</td>\n",
              "    </tr>\n",
              "  </tbody>\n",
              "</table>\n",
              "</div>\n",
              "    <div class=\"colab-df-buttons\">\n",
              "\n",
              "  <div class=\"colab-df-container\">\n",
              "    <button class=\"colab-df-convert\" onclick=\"convertToInteractive('df-82446d3e-0203-4289-b260-5c86b5f630ae')\"\n",
              "            title=\"Convert this dataframe to an interactive table.\"\n",
              "            style=\"display:none;\">\n",
              "\n",
              "  <svg xmlns=\"http://www.w3.org/2000/svg\" height=\"24px\" viewBox=\"0 -960 960 960\">\n",
              "    <path d=\"M120-120v-720h720v720H120Zm60-500h600v-160H180v160Zm220 220h160v-160H400v160Zm0 220h160v-160H400v160ZM180-400h160v-160H180v160Zm440 0h160v-160H620v160ZM180-180h160v-160H180v160Zm440 0h160v-160H620v160Z\"/>\n",
              "  </svg>\n",
              "    </button>\n",
              "\n",
              "  <style>\n",
              "    .colab-df-container {\n",
              "      display:flex;\n",
              "      gap: 12px;\n",
              "    }\n",
              "\n",
              "    .colab-df-convert {\n",
              "      background-color: #E8F0FE;\n",
              "      border: none;\n",
              "      border-radius: 50%;\n",
              "      cursor: pointer;\n",
              "      display: none;\n",
              "      fill: #1967D2;\n",
              "      height: 32px;\n",
              "      padding: 0 0 0 0;\n",
              "      width: 32px;\n",
              "    }\n",
              "\n",
              "    .colab-df-convert:hover {\n",
              "      background-color: #E2EBFA;\n",
              "      box-shadow: 0px 1px 2px rgba(60, 64, 67, 0.3), 0px 1px 3px 1px rgba(60, 64, 67, 0.15);\n",
              "      fill: #174EA6;\n",
              "    }\n",
              "\n",
              "    .colab-df-buttons div {\n",
              "      margin-bottom: 4px;\n",
              "    }\n",
              "\n",
              "    [theme=dark] .colab-df-convert {\n",
              "      background-color: #3B4455;\n",
              "      fill: #D2E3FC;\n",
              "    }\n",
              "\n",
              "    [theme=dark] .colab-df-convert:hover {\n",
              "      background-color: #434B5C;\n",
              "      box-shadow: 0px 1px 3px 1px rgba(0, 0, 0, 0.15);\n",
              "      filter: drop-shadow(0px 1px 2px rgba(0, 0, 0, 0.3));\n",
              "      fill: #FFFFFF;\n",
              "    }\n",
              "  </style>\n",
              "\n",
              "    <script>\n",
              "      const buttonEl =\n",
              "        document.querySelector('#df-82446d3e-0203-4289-b260-5c86b5f630ae button.colab-df-convert');\n",
              "      buttonEl.style.display =\n",
              "        google.colab.kernel.accessAllowed ? 'block' : 'none';\n",
              "\n",
              "      async function convertToInteractive(key) {\n",
              "        const element = document.querySelector('#df-82446d3e-0203-4289-b260-5c86b5f630ae');\n",
              "        const dataTable =\n",
              "          await google.colab.kernel.invokeFunction('convertToInteractive',\n",
              "                                                    [key], {});\n",
              "        if (!dataTable) return;\n",
              "\n",
              "        const docLinkHtml = 'Like what you see? Visit the ' +\n",
              "          '<a target=\"_blank\" href=https://colab.research.google.com/notebooks/data_table.ipynb>data table notebook</a>'\n",
              "          + ' to learn more about interactive tables.';\n",
              "        element.innerHTML = '';\n",
              "        dataTable['output_type'] = 'display_data';\n",
              "        await google.colab.output.renderOutput(dataTable, element);\n",
              "        const docLink = document.createElement('div');\n",
              "        docLink.innerHTML = docLinkHtml;\n",
              "        element.appendChild(docLink);\n",
              "      }\n",
              "    </script>\n",
              "  </div>\n",
              "\n",
              "\n",
              "<div id=\"df-53ec7db6-ccbe-4f65-9ebb-a202f074f7ba\">\n",
              "  <button class=\"colab-df-quickchart\" onclick=\"quickchart('df-53ec7db6-ccbe-4f65-9ebb-a202f074f7ba')\"\n",
              "            title=\"Suggest charts\"\n",
              "            style=\"display:none;\">\n",
              "\n",
              "<svg xmlns=\"http://www.w3.org/2000/svg\" height=\"24px\"viewBox=\"0 0 24 24\"\n",
              "     width=\"24px\">\n",
              "    <g>\n",
              "        <path d=\"M19 3H5c-1.1 0-2 .9-2 2v14c0 1.1.9 2 2 2h14c1.1 0 2-.9 2-2V5c0-1.1-.9-2-2-2zM9 17H7v-7h2v7zm4 0h-2V7h2v10zm4 0h-2v-4h2v4z\"/>\n",
              "    </g>\n",
              "</svg>\n",
              "  </button>\n",
              "\n",
              "<style>\n",
              "  .colab-df-quickchart {\n",
              "      --bg-color: #E8F0FE;\n",
              "      --fill-color: #1967D2;\n",
              "      --hover-bg-color: #E2EBFA;\n",
              "      --hover-fill-color: #174EA6;\n",
              "      --disabled-fill-color: #AAA;\n",
              "      --disabled-bg-color: #DDD;\n",
              "  }\n",
              "\n",
              "  [theme=dark] .colab-df-quickchart {\n",
              "      --bg-color: #3B4455;\n",
              "      --fill-color: #D2E3FC;\n",
              "      --hover-bg-color: #434B5C;\n",
              "      --hover-fill-color: #FFFFFF;\n",
              "      --disabled-bg-color: #3B4455;\n",
              "      --disabled-fill-color: #666;\n",
              "  }\n",
              "\n",
              "  .colab-df-quickchart {\n",
              "    background-color: var(--bg-color);\n",
              "    border: none;\n",
              "    border-radius: 50%;\n",
              "    cursor: pointer;\n",
              "    display: none;\n",
              "    fill: var(--fill-color);\n",
              "    height: 32px;\n",
              "    padding: 0;\n",
              "    width: 32px;\n",
              "  }\n",
              "\n",
              "  .colab-df-quickchart:hover {\n",
              "    background-color: var(--hover-bg-color);\n",
              "    box-shadow: 0 1px 2px rgba(60, 64, 67, 0.3), 0 1px 3px 1px rgba(60, 64, 67, 0.15);\n",
              "    fill: var(--button-hover-fill-color);\n",
              "  }\n",
              "\n",
              "  .colab-df-quickchart-complete:disabled,\n",
              "  .colab-df-quickchart-complete:disabled:hover {\n",
              "    background-color: var(--disabled-bg-color);\n",
              "    fill: var(--disabled-fill-color);\n",
              "    box-shadow: none;\n",
              "  }\n",
              "\n",
              "  .colab-df-spinner {\n",
              "    border: 2px solid var(--fill-color);\n",
              "    border-color: transparent;\n",
              "    border-bottom-color: var(--fill-color);\n",
              "    animation:\n",
              "      spin 1s steps(1) infinite;\n",
              "  }\n",
              "\n",
              "  @keyframes spin {\n",
              "    0% {\n",
              "      border-color: transparent;\n",
              "      border-bottom-color: var(--fill-color);\n",
              "      border-left-color: var(--fill-color);\n",
              "    }\n",
              "    20% {\n",
              "      border-color: transparent;\n",
              "      border-left-color: var(--fill-color);\n",
              "      border-top-color: var(--fill-color);\n",
              "    }\n",
              "    30% {\n",
              "      border-color: transparent;\n",
              "      border-left-color: var(--fill-color);\n",
              "      border-top-color: var(--fill-color);\n",
              "      border-right-color: var(--fill-color);\n",
              "    }\n",
              "    40% {\n",
              "      border-color: transparent;\n",
              "      border-right-color: var(--fill-color);\n",
              "      border-top-color: var(--fill-color);\n",
              "    }\n",
              "    60% {\n",
              "      border-color: transparent;\n",
              "      border-right-color: var(--fill-color);\n",
              "    }\n",
              "    80% {\n",
              "      border-color: transparent;\n",
              "      border-right-color: var(--fill-color);\n",
              "      border-bottom-color: var(--fill-color);\n",
              "    }\n",
              "    90% {\n",
              "      border-color: transparent;\n",
              "      border-bottom-color: var(--fill-color);\n",
              "    }\n",
              "  }\n",
              "</style>\n",
              "\n",
              "  <script>\n",
              "    async function quickchart(key) {\n",
              "      const quickchartButtonEl =\n",
              "        document.querySelector('#' + key + ' button');\n",
              "      quickchartButtonEl.disabled = true;  // To prevent multiple clicks.\n",
              "      quickchartButtonEl.classList.add('colab-df-spinner');\n",
              "      try {\n",
              "        const charts = await google.colab.kernel.invokeFunction(\n",
              "            'suggestCharts', [key], {});\n",
              "      } catch (error) {\n",
              "        console.error('Error during call to suggestCharts:', error);\n",
              "      }\n",
              "      quickchartButtonEl.classList.remove('colab-df-spinner');\n",
              "      quickchartButtonEl.classList.add('colab-df-quickchart-complete');\n",
              "    }\n",
              "    (() => {\n",
              "      let quickchartButtonEl =\n",
              "        document.querySelector('#df-53ec7db6-ccbe-4f65-9ebb-a202f074f7ba button');\n",
              "      quickchartButtonEl.style.display =\n",
              "        google.colab.kernel.accessAllowed ? 'block' : 'none';\n",
              "    })();\n",
              "  </script>\n",
              "</div>\n",
              "\n",
              "  <div id=\"id_8869e162-054a-47e6-bd8a-d7acd5a164e0\">\n",
              "    <style>\n",
              "      .colab-df-generate {\n",
              "        background-color: #E8F0FE;\n",
              "        border: none;\n",
              "        border-radius: 50%;\n",
              "        cursor: pointer;\n",
              "        display: none;\n",
              "        fill: #1967D2;\n",
              "        height: 32px;\n",
              "        padding: 0 0 0 0;\n",
              "        width: 32px;\n",
              "      }\n",
              "\n",
              "      .colab-df-generate:hover {\n",
              "        background-color: #E2EBFA;\n",
              "        box-shadow: 0px 1px 2px rgba(60, 64, 67, 0.3), 0px 1px 3px 1px rgba(60, 64, 67, 0.15);\n",
              "        fill: #174EA6;\n",
              "      }\n",
              "\n",
              "      [theme=dark] .colab-df-generate {\n",
              "        background-color: #3B4455;\n",
              "        fill: #D2E3FC;\n",
              "      }\n",
              "\n",
              "      [theme=dark] .colab-df-generate:hover {\n",
              "        background-color: #434B5C;\n",
              "        box-shadow: 0px 1px 3px 1px rgba(0, 0, 0, 0.15);\n",
              "        filter: drop-shadow(0px 1px 2px rgba(0, 0, 0, 0.3));\n",
              "        fill: #FFFFFF;\n",
              "      }\n",
              "    </style>\n",
              "    <button class=\"colab-df-generate\" onclick=\"generateWithVariable('testDf')\"\n",
              "            title=\"Generate code using this dataframe.\"\n",
              "            style=\"display:none;\">\n",
              "\n",
              "  <svg xmlns=\"http://www.w3.org/2000/svg\" height=\"24px\"viewBox=\"0 0 24 24\"\n",
              "       width=\"24px\">\n",
              "    <path d=\"M7,19H8.4L18.45,9,17,7.55,7,17.6ZM5,21V16.75L18.45,3.32a2,2,0,0,1,2.83,0l1.4,1.43a1.91,1.91,0,0,1,.58,1.4,1.91,1.91,0,0,1-.58,1.4L9.25,21ZM18.45,9,17,7.55Zm-12,3A5.31,5.31,0,0,0,4.9,8.1,5.31,5.31,0,0,0,1,6.5,5.31,5.31,0,0,0,4.9,4.9,5.31,5.31,0,0,0,6.5,1,5.31,5.31,0,0,0,8.1,4.9,5.31,5.31,0,0,0,12,6.5,5.46,5.46,0,0,0,6.5,12Z\"/>\n",
              "  </svg>\n",
              "    </button>\n",
              "    <script>\n",
              "      (() => {\n",
              "      const buttonEl =\n",
              "        document.querySelector('#id_8869e162-054a-47e6-bd8a-d7acd5a164e0 button.colab-df-generate');\n",
              "      buttonEl.style.display =\n",
              "        google.colab.kernel.accessAllowed ? 'block' : 'none';\n",
              "\n",
              "      buttonEl.onclick = () => {\n",
              "        google.colab.notebook.generateWithVariable('testDf');\n",
              "      }\n",
              "      })();\n",
              "    </script>\n",
              "  </div>\n",
              "\n",
              "    </div>\n",
              "  </div>\n"
            ],
            "application/vnd.google.colaboratory.intrinsic+json": {
              "type": "dataframe",
              "variable_name": "testDf",
              "summary": "{\n  \"name\": \"testDf\",\n  \"rows\": 4,\n  \"fields\": [\n    {\n      \"column\": \"test\",\n      \"properties\": {\n        \"dtype\": \"number\",\n        \"std\": 4835,\n        \"min\": 10,\n        \"max\": 10000,\n        \"num_unique_values\": 4,\n        \"samples\": [\n          100,\n          10000,\n          10\n        ],\n        \"semantic_type\": \"\",\n        \"description\": \"\"\n      }\n    }\n  ]\n}"
            }
          },
          "metadata": {},
          "execution_count": 62
        }
      ],
      "source": [
        "testDf.columns=[\"test\"]\n",
        "testDf"
      ]
    },
    {
      "cell_type": "code",
      "execution_count": 63,
      "metadata": {
        "id": "_A-K6jTUOOGr"
      },
      "outputs": [],
      "source": [
        "import pandas as pd\n",
        "date = ['16.02.29', '16.02.26', '16.02.25', '16.02.24', '16.02.23']\n",
        "date2 = ['17.02.29', '17.02.26', '17.02.25', '17.02.24', '17.02.23']"
      ]
    },
    {
      "cell_type": "code",
      "execution_count": 64,
      "metadata": {
        "id": "fhE0nTq_OOGs"
      },
      "outputs": [],
      "source": [
        "date_df = pd.DataFrame(date, columns=['date2'])\n",
        "date_df2 = pd.DataFrame(date2, columns=['date23'])"
      ]
    },
    {
      "cell_type": "code",
      "execution_count": 65,
      "metadata": {
        "colab": {
          "base_uri": "https://localhost:8080/",
          "height": 206
        },
        "id": "IudzpKpROOGt",
        "outputId": "d7114957-711c-40db-8c0a-4ac1c0660b23"
      },
      "outputs": [
        {
          "output_type": "execute_result",
          "data": {
            "text/plain": [
              "      date2    date23\n",
              "0  16.02.29  17.02.29\n",
              "1  16.02.26  17.02.26\n",
              "2  16.02.25  17.02.25\n",
              "3  16.02.24  17.02.24\n",
              "4  16.02.23  17.02.23"
            ],
            "text/html": [
              "\n",
              "  <div id=\"df-e58ad1d5-553f-4fb7-808e-4023b8b24fcb\" class=\"colab-df-container\">\n",
              "    <div>\n",
              "<style scoped>\n",
              "    .dataframe tbody tr th:only-of-type {\n",
              "        vertical-align: middle;\n",
              "    }\n",
              "\n",
              "    .dataframe tbody tr th {\n",
              "        vertical-align: top;\n",
              "    }\n",
              "\n",
              "    .dataframe thead th {\n",
              "        text-align: right;\n",
              "    }\n",
              "</style>\n",
              "<table border=\"1\" class=\"dataframe\">\n",
              "  <thead>\n",
              "    <tr style=\"text-align: right;\">\n",
              "      <th></th>\n",
              "      <th>date2</th>\n",
              "      <th>date23</th>\n",
              "    </tr>\n",
              "  </thead>\n",
              "  <tbody>\n",
              "    <tr>\n",
              "      <th>0</th>\n",
              "      <td>16.02.29</td>\n",
              "      <td>17.02.29</td>\n",
              "    </tr>\n",
              "    <tr>\n",
              "      <th>1</th>\n",
              "      <td>16.02.26</td>\n",
              "      <td>17.02.26</td>\n",
              "    </tr>\n",
              "    <tr>\n",
              "      <th>2</th>\n",
              "      <td>16.02.25</td>\n",
              "      <td>17.02.25</td>\n",
              "    </tr>\n",
              "    <tr>\n",
              "      <th>3</th>\n",
              "      <td>16.02.24</td>\n",
              "      <td>17.02.24</td>\n",
              "    </tr>\n",
              "    <tr>\n",
              "      <th>4</th>\n",
              "      <td>16.02.23</td>\n",
              "      <td>17.02.23</td>\n",
              "    </tr>\n",
              "  </tbody>\n",
              "</table>\n",
              "</div>\n",
              "    <div class=\"colab-df-buttons\">\n",
              "\n",
              "  <div class=\"colab-df-container\">\n",
              "    <button class=\"colab-df-convert\" onclick=\"convertToInteractive('df-e58ad1d5-553f-4fb7-808e-4023b8b24fcb')\"\n",
              "            title=\"Convert this dataframe to an interactive table.\"\n",
              "            style=\"display:none;\">\n",
              "\n",
              "  <svg xmlns=\"http://www.w3.org/2000/svg\" height=\"24px\" viewBox=\"0 -960 960 960\">\n",
              "    <path d=\"M120-120v-720h720v720H120Zm60-500h600v-160H180v160Zm220 220h160v-160H400v160Zm0 220h160v-160H400v160ZM180-400h160v-160H180v160Zm440 0h160v-160H620v160ZM180-180h160v-160H180v160Zm440 0h160v-160H620v160Z\"/>\n",
              "  </svg>\n",
              "    </button>\n",
              "\n",
              "  <style>\n",
              "    .colab-df-container {\n",
              "      display:flex;\n",
              "      gap: 12px;\n",
              "    }\n",
              "\n",
              "    .colab-df-convert {\n",
              "      background-color: #E8F0FE;\n",
              "      border: none;\n",
              "      border-radius: 50%;\n",
              "      cursor: pointer;\n",
              "      display: none;\n",
              "      fill: #1967D2;\n",
              "      height: 32px;\n",
              "      padding: 0 0 0 0;\n",
              "      width: 32px;\n",
              "    }\n",
              "\n",
              "    .colab-df-convert:hover {\n",
              "      background-color: #E2EBFA;\n",
              "      box-shadow: 0px 1px 2px rgba(60, 64, 67, 0.3), 0px 1px 3px 1px rgba(60, 64, 67, 0.15);\n",
              "      fill: #174EA6;\n",
              "    }\n",
              "\n",
              "    .colab-df-buttons div {\n",
              "      margin-bottom: 4px;\n",
              "    }\n",
              "\n",
              "    [theme=dark] .colab-df-convert {\n",
              "      background-color: #3B4455;\n",
              "      fill: #D2E3FC;\n",
              "    }\n",
              "\n",
              "    [theme=dark] .colab-df-convert:hover {\n",
              "      background-color: #434B5C;\n",
              "      box-shadow: 0px 1px 3px 1px rgba(0, 0, 0, 0.15);\n",
              "      filter: drop-shadow(0px 1px 2px rgba(0, 0, 0, 0.3));\n",
              "      fill: #FFFFFF;\n",
              "    }\n",
              "  </style>\n",
              "\n",
              "    <script>\n",
              "      const buttonEl =\n",
              "        document.querySelector('#df-e58ad1d5-553f-4fb7-808e-4023b8b24fcb button.colab-df-convert');\n",
              "      buttonEl.style.display =\n",
              "        google.colab.kernel.accessAllowed ? 'block' : 'none';\n",
              "\n",
              "      async function convertToInteractive(key) {\n",
              "        const element = document.querySelector('#df-e58ad1d5-553f-4fb7-808e-4023b8b24fcb');\n",
              "        const dataTable =\n",
              "          await google.colab.kernel.invokeFunction('convertToInteractive',\n",
              "                                                    [key], {});\n",
              "        if (!dataTable) return;\n",
              "\n",
              "        const docLinkHtml = 'Like what you see? Visit the ' +\n",
              "          '<a target=\"_blank\" href=https://colab.research.google.com/notebooks/data_table.ipynb>data table notebook</a>'\n",
              "          + ' to learn more about interactive tables.';\n",
              "        element.innerHTML = '';\n",
              "        dataTable['output_type'] = 'display_data';\n",
              "        await google.colab.output.renderOutput(dataTable, element);\n",
              "        const docLink = document.createElement('div');\n",
              "        docLink.innerHTML = docLinkHtml;\n",
              "        element.appendChild(docLink);\n",
              "      }\n",
              "    </script>\n",
              "  </div>\n",
              "\n",
              "\n",
              "<div id=\"df-67d255ee-e779-41e2-b00b-2662f69dd2cb\">\n",
              "  <button class=\"colab-df-quickchart\" onclick=\"quickchart('df-67d255ee-e779-41e2-b00b-2662f69dd2cb')\"\n",
              "            title=\"Suggest charts\"\n",
              "            style=\"display:none;\">\n",
              "\n",
              "<svg xmlns=\"http://www.w3.org/2000/svg\" height=\"24px\"viewBox=\"0 0 24 24\"\n",
              "     width=\"24px\">\n",
              "    <g>\n",
              "        <path d=\"M19 3H5c-1.1 0-2 .9-2 2v14c0 1.1.9 2 2 2h14c1.1 0 2-.9 2-2V5c0-1.1-.9-2-2-2zM9 17H7v-7h2v7zm4 0h-2V7h2v10zm4 0h-2v-4h2v4z\"/>\n",
              "    </g>\n",
              "</svg>\n",
              "  </button>\n",
              "\n",
              "<style>\n",
              "  .colab-df-quickchart {\n",
              "      --bg-color: #E8F0FE;\n",
              "      --fill-color: #1967D2;\n",
              "      --hover-bg-color: #E2EBFA;\n",
              "      --hover-fill-color: #174EA6;\n",
              "      --disabled-fill-color: #AAA;\n",
              "      --disabled-bg-color: #DDD;\n",
              "  }\n",
              "\n",
              "  [theme=dark] .colab-df-quickchart {\n",
              "      --bg-color: #3B4455;\n",
              "      --fill-color: #D2E3FC;\n",
              "      --hover-bg-color: #434B5C;\n",
              "      --hover-fill-color: #FFFFFF;\n",
              "      --disabled-bg-color: #3B4455;\n",
              "      --disabled-fill-color: #666;\n",
              "  }\n",
              "\n",
              "  .colab-df-quickchart {\n",
              "    background-color: var(--bg-color);\n",
              "    border: none;\n",
              "    border-radius: 50%;\n",
              "    cursor: pointer;\n",
              "    display: none;\n",
              "    fill: var(--fill-color);\n",
              "    height: 32px;\n",
              "    padding: 0;\n",
              "    width: 32px;\n",
              "  }\n",
              "\n",
              "  .colab-df-quickchart:hover {\n",
              "    background-color: var(--hover-bg-color);\n",
              "    box-shadow: 0 1px 2px rgba(60, 64, 67, 0.3), 0 1px 3px 1px rgba(60, 64, 67, 0.15);\n",
              "    fill: var(--button-hover-fill-color);\n",
              "  }\n",
              "\n",
              "  .colab-df-quickchart-complete:disabled,\n",
              "  .colab-df-quickchart-complete:disabled:hover {\n",
              "    background-color: var(--disabled-bg-color);\n",
              "    fill: var(--disabled-fill-color);\n",
              "    box-shadow: none;\n",
              "  }\n",
              "\n",
              "  .colab-df-spinner {\n",
              "    border: 2px solid var(--fill-color);\n",
              "    border-color: transparent;\n",
              "    border-bottom-color: var(--fill-color);\n",
              "    animation:\n",
              "      spin 1s steps(1) infinite;\n",
              "  }\n",
              "\n",
              "  @keyframes spin {\n",
              "    0% {\n",
              "      border-color: transparent;\n",
              "      border-bottom-color: var(--fill-color);\n",
              "      border-left-color: var(--fill-color);\n",
              "    }\n",
              "    20% {\n",
              "      border-color: transparent;\n",
              "      border-left-color: var(--fill-color);\n",
              "      border-top-color: var(--fill-color);\n",
              "    }\n",
              "    30% {\n",
              "      border-color: transparent;\n",
              "      border-left-color: var(--fill-color);\n",
              "      border-top-color: var(--fill-color);\n",
              "      border-right-color: var(--fill-color);\n",
              "    }\n",
              "    40% {\n",
              "      border-color: transparent;\n",
              "      border-right-color: var(--fill-color);\n",
              "      border-top-color: var(--fill-color);\n",
              "    }\n",
              "    60% {\n",
              "      border-color: transparent;\n",
              "      border-right-color: var(--fill-color);\n",
              "    }\n",
              "    80% {\n",
              "      border-color: transparent;\n",
              "      border-right-color: var(--fill-color);\n",
              "      border-bottom-color: var(--fill-color);\n",
              "    }\n",
              "    90% {\n",
              "      border-color: transparent;\n",
              "      border-bottom-color: var(--fill-color);\n",
              "    }\n",
              "  }\n",
              "</style>\n",
              "\n",
              "  <script>\n",
              "    async function quickchart(key) {\n",
              "      const quickchartButtonEl =\n",
              "        document.querySelector('#' + key + ' button');\n",
              "      quickchartButtonEl.disabled = true;  // To prevent multiple clicks.\n",
              "      quickchartButtonEl.classList.add('colab-df-spinner');\n",
              "      try {\n",
              "        const charts = await google.colab.kernel.invokeFunction(\n",
              "            'suggestCharts', [key], {});\n",
              "      } catch (error) {\n",
              "        console.error('Error during call to suggestCharts:', error);\n",
              "      }\n",
              "      quickchartButtonEl.classList.remove('colab-df-spinner');\n",
              "      quickchartButtonEl.classList.add('colab-df-quickchart-complete');\n",
              "    }\n",
              "    (() => {\n",
              "      let quickchartButtonEl =\n",
              "        document.querySelector('#df-67d255ee-e779-41e2-b00b-2662f69dd2cb button');\n",
              "      quickchartButtonEl.style.display =\n",
              "        google.colab.kernel.accessAllowed ? 'block' : 'none';\n",
              "    })();\n",
              "  </script>\n",
              "</div>\n",
              "\n",
              "  <div id=\"id_66345237-56aa-4905-bc38-841300f5033c\">\n",
              "    <style>\n",
              "      .colab-df-generate {\n",
              "        background-color: #E8F0FE;\n",
              "        border: none;\n",
              "        border-radius: 50%;\n",
              "        cursor: pointer;\n",
              "        display: none;\n",
              "        fill: #1967D2;\n",
              "        height: 32px;\n",
              "        padding: 0 0 0 0;\n",
              "        width: 32px;\n",
              "      }\n",
              "\n",
              "      .colab-df-generate:hover {\n",
              "        background-color: #E2EBFA;\n",
              "        box-shadow: 0px 1px 2px rgba(60, 64, 67, 0.3), 0px 1px 3px 1px rgba(60, 64, 67, 0.15);\n",
              "        fill: #174EA6;\n",
              "      }\n",
              "\n",
              "      [theme=dark] .colab-df-generate {\n",
              "        background-color: #3B4455;\n",
              "        fill: #D2E3FC;\n",
              "      }\n",
              "\n",
              "      [theme=dark] .colab-df-generate:hover {\n",
              "        background-color: #434B5C;\n",
              "        box-shadow: 0px 1px 3px 1px rgba(0, 0, 0, 0.15);\n",
              "        filter: drop-shadow(0px 1px 2px rgba(0, 0, 0, 0.3));\n",
              "        fill: #FFFFFF;\n",
              "      }\n",
              "    </style>\n",
              "    <button class=\"colab-df-generate\" onclick=\"generateWithVariable('final')\"\n",
              "            title=\"Generate code using this dataframe.\"\n",
              "            style=\"display:none;\">\n",
              "\n",
              "  <svg xmlns=\"http://www.w3.org/2000/svg\" height=\"24px\"viewBox=\"0 0 24 24\"\n",
              "       width=\"24px\">\n",
              "    <path d=\"M7,19H8.4L18.45,9,17,7.55,7,17.6ZM5,21V16.75L18.45,3.32a2,2,0,0,1,2.83,0l1.4,1.43a1.91,1.91,0,0,1,.58,1.4,1.91,1.91,0,0,1-.58,1.4L9.25,21ZM18.45,9,17,7.55Zm-12,3A5.31,5.31,0,0,0,4.9,8.1,5.31,5.31,0,0,0,1,6.5,5.31,5.31,0,0,0,4.9,4.9,5.31,5.31,0,0,0,6.5,1,5.31,5.31,0,0,0,8.1,4.9,5.31,5.31,0,0,0,12,6.5,5.46,5.46,0,0,0,6.5,12Z\"/>\n",
              "  </svg>\n",
              "    </button>\n",
              "    <script>\n",
              "      (() => {\n",
              "      const buttonEl =\n",
              "        document.querySelector('#id_66345237-56aa-4905-bc38-841300f5033c button.colab-df-generate');\n",
              "      buttonEl.style.display =\n",
              "        google.colab.kernel.accessAllowed ? 'block' : 'none';\n",
              "\n",
              "      buttonEl.onclick = () => {\n",
              "        google.colab.notebook.generateWithVariable('final');\n",
              "      }\n",
              "      })();\n",
              "    </script>\n",
              "  </div>\n",
              "\n",
              "    </div>\n",
              "  </div>\n"
            ],
            "application/vnd.google.colaboratory.intrinsic+json": {
              "type": "dataframe",
              "variable_name": "final",
              "summary": "{\n  \"name\": \"final\",\n  \"rows\": 5,\n  \"fields\": [\n    {\n      \"column\": \"date2\",\n      \"properties\": {\n        \"dtype\": \"object\",\n        \"num_unique_values\": 5,\n        \"samples\": [\n          \"16.02.26\",\n          \"16.02.23\",\n          \"16.02.25\"\n        ],\n        \"semantic_type\": \"\",\n        \"description\": \"\"\n      }\n    },\n    {\n      \"column\": \"date23\",\n      \"properties\": {\n        \"dtype\": \"object\",\n        \"num_unique_values\": 5,\n        \"samples\": [\n          \"17.02.26\",\n          \"17.02.23\",\n          \"17.02.25\"\n        ],\n        \"semantic_type\": \"\",\n        \"description\": \"\"\n      }\n    }\n  ]\n}"
            }
          },
          "metadata": {},
          "execution_count": 65
        }
      ],
      "source": [
        "final = pd.concat([date_df,date_df2], axis = 1)\n",
        "final"
      ]
    },
    {
      "cell_type": "markdown",
      "metadata": {
        "id": "pMjD9w1VOOGt"
      },
      "source": [
        "### [실습]\n",
        "자신만의 데이터프레임을 생성해보세요"
      ]
    }
  ],
  "metadata": {
    "kernelspec": {
      "display_name": "Python 3",
      "language": "python",
      "name": "python3"
    },
    "language_info": {
      "codemirror_mode": {
        "name": "ipython",
        "version": 3
      },
      "file_extension": ".py",
      "mimetype": "text/x-python",
      "name": "python",
      "nbconvert_exporter": "python",
      "pygments_lexer": "ipython3",
      "version": "3.7.6"
    },
    "colab": {
      "provenance": []
    }
  },
  "nbformat": 4,
  "nbformat_minor": 0
}